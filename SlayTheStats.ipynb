{
 "cells": [
  {
   "cell_type": "code",
   "execution_count": 1,
   "id": "c440cefd",
   "metadata": {},
   "outputs": [],
   "source": [
    "import os\n",
    "import json\n",
    "import spire\n",
    "import numpy as np\n",
    "import matplotlib as plt"
   ]
  },
  {
   "cell_type": "markdown",
   "id": "9c5ee875",
   "metadata": {},
   "source": [
    "# Load Runs"
   ]
  },
  {
   "cell_type": "code",
   "execution_count": 2,
   "id": "3d6c0576",
   "metadata": {},
   "outputs": [],
   "source": [
    "#All Runs no mods\n",
    "ironclad_runs = np.array(spire.loadIroncladRuns())\n",
    "silent_runs = np.array(spire.loadTheSilentRuns())\n",
    "defect_runs = np.array(spire.loadDefectRuns())\n",
    "watcher_runs = np.array(spire.loadWatcherRuns())\n"
   ]
  },
  {
   "cell_type": "markdown",
   "id": "77d14adb",
   "metadata": {},
   "source": [
    "## Remove modded runs\n",
    "May need to be updated if multiple mods were used"
   ]
  },
  {
   "cell_type": "code",
   "execution_count": null,
   "id": "130d17ff",
   "metadata": {},
   "outputs": [],
   "source": [
    "remove_modded_runs = True\n",
    "\n",
    "\n",
    "\n",
    "ironclad_runs = np.array(spire.loadIroncladRuns())\n"
   ]
  },
  {
   "cell_type": "code",
   "execution_count": 3,
   "id": "7facdcf7",
   "metadata": {},
   "outputs": [],
   "source": [
    "\"\"\"Ironclad shenanigans\"\"\"\n",
    "\n",
    "#Boolean array based on if run was won or not\n",
    "ironclad_wins = np.array([run.victory for run in ironclad_runs])\n",
    "ironclad_losses = np.array([not run.victory for run in ironclad_runs])\n",
    "\n",
    "#List of successful runs\n",
    "ironclad_victory_runs = np.array(ironclad_runs)[ironclad_wins]\n",
    "\n",
    "ironclad_defeat_runs = np.array(ironclad_runs)[ironclad_losses]\n",
    "#ironclad_runs[1].fileInfo\n"
   ]
  },
  {
   "cell_type": "code",
   "execution_count": 4,
   "id": "aa48e30c",
   "metadata": {},
   "outputs": [
    {
     "ename": "KeyError",
     "evalue": "'Replay:Snechameleon'",
     "output_type": "error",
     "traceback": [
      "\u001b[1;31m---------------------------------------------------------------------------\u001b[0m",
      "\u001b[1;31mKeyError\u001b[0m                                  Traceback (most recent call last)",
      "\u001b[1;32m<ipython-input-4-56682ccedce3>\u001b[0m in \u001b[0;36m<module>\u001b[1;34m\u001b[0m\n\u001b[0;32m     19\u001b[0m     \u001b[1;32mfor\u001b[0m \u001b[0mrun\u001b[0m \u001b[1;32min\u001b[0m \u001b[0mcharacter_runs\u001b[0m\u001b[1;33m:\u001b[0m\u001b[1;33m\u001b[0m\u001b[1;33m\u001b[0m\u001b[0m\n\u001b[0;32m     20\u001b[0m         \u001b[1;32mfor\u001b[0m \u001b[0mencounter\u001b[0m \u001b[1;32min\u001b[0m \u001b[0mrun\u001b[0m\u001b[1;33m.\u001b[0m\u001b[0mdamage_taken\u001b[0m\u001b[1;33m:\u001b[0m\u001b[1;33m\u001b[0m\u001b[1;33m\u001b[0m\u001b[0m\n\u001b[1;32m---> 21\u001b[1;33m             \u001b[0mencounter_dict\u001b[0m\u001b[1;33m[\u001b[0m\u001b[0mencounter\u001b[0m\u001b[1;33m[\u001b[0m\u001b[1;34m'enemies'\u001b[0m\u001b[1;33m]\u001b[0m\u001b[1;33m]\u001b[0m\u001b[1;33m[\u001b[0m\u001b[1;36m0\u001b[0m\u001b[1;33m]\u001b[0m \u001b[1;33m+=\u001b[0m \u001b[1;36m1\u001b[0m\u001b[1;33m\u001b[0m\u001b[1;33m\u001b[0m\u001b[0m\n\u001b[0m\u001b[0;32m     22\u001b[0m \u001b[1;33m\u001b[0m\u001b[0m\n\u001b[0;32m     23\u001b[0m \u001b[1;33m\u001b[0m\u001b[0m\n",
      "\u001b[1;31mKeyError\u001b[0m: 'Replay:Snechameleon'"
     ]
    }
   ],
   "source": [
    "#create set of all enemies\n",
    "enemy_set = set()\n",
    "\n",
    "for character_runs in [ironclad_runs,silent_runs,defect_runs,watcher_runs]:\n",
    "    for run in character_runs:\n",
    "        if not run.mod:\n",
    "            for encounter in run.damage_taken:\n",
    "                enemy_set.add(encounter['enemies']) \n",
    "\n",
    "# Structure: \n",
    "# key = enemy name\n",
    "# value: (n,m)    n = number of encounters, m = number of deaths\n",
    "encounter_dict = dict()\n",
    "for enemy in enemy_set:\n",
    "    encounter_dict[enemy] = [0,0]\n",
    "\n",
    "# Add up number of encounters\n",
    "for character_runs in [ironclad_runs,silent_runs,defect_runs,watcher_runs]:\n",
    "    for run in character_runs:\n",
    "        for encounter in run.damage_taken:\n",
    "            encounter_dict[encounter['enemies']][0] += 1 \n",
    "\n",
    "\n"
   ]
  },
  {
   "cell_type": "code",
   "execution_count": null,
   "id": "1b038f01",
   "metadata": {},
   "outputs": [],
   "source": []
  },
  {
   "cell_type": "code",
   "execution_count": 33,
   "id": "97501b92",
   "metadata": {},
   "outputs": [
    {
     "data": {
      "text/plain": [
       "64"
      ]
     },
     "execution_count": 33,
     "metadata": {},
     "output_type": "execute_result"
    }
   ],
   "source": [
    "len(enemy_set)\n"
   ]
  },
  {
   "cell_type": "code",
   "execution_count": null,
   "id": "a65461d8",
   "metadata": {},
   "outputs": [],
   "source": []
  }
 ],
 "metadata": {
  "kernelspec": {
   "display_name": "Python 3",
   "language": "python",
   "name": "python3"
  },
  "language_info": {
   "codemirror_mode": {
    "name": "ipython",
    "version": 3
   },
   "file_extension": ".py",
   "mimetype": "text/x-python",
   "name": "python",
   "nbconvert_exporter": "python",
   "pygments_lexer": "ipython3",
   "version": "3.8.8"
  }
 },
 "nbformat": 4,
 "nbformat_minor": 5
}
