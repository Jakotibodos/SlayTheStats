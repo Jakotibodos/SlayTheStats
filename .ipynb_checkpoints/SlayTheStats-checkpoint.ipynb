{
 "cells": [
  {
   "cell_type": "code",
   "execution_count": 2,
   "id": "c440cefd",
   "metadata": {},
   "outputs": [],
   "source": [
    "import os\n",
    "import json\n",
    "import spire\n",
    "import numpy as np\n",
    "import matplotlib as plt"
   ]
  },
  {
   "cell_type": "code",
   "execution_count": 23,
   "id": "3d6c0576",
   "metadata": {},
   "outputs": [],
   "source": [
    "#All Runs\n",
    "ironclad_runs = np.array(spire.loadIroncladRuns())\n",
    "silent_runs = np.array(spire.loadTheSilentRuns())\n",
    "defect_runs = np.array(spire.loadDefectRuns())\n",
    "watcher_runs = np.array(spire.loadWatcherRuns())"
   ]
  },
  {
   "cell_type": "code",
   "execution_count": 4,
   "id": "7facdcf7",
   "metadata": {},
   "outputs": [
    {
     "name": "stdout",
     "output_type": "stream",
     "text": [
      "{'Anger+1': 3, 'Armaments': 1, 'Armaments+1': 5, 'AscendersBane': 8, 'Barricade': 1, 'Barricade+1': 3, 'Bash': 8, 'Bash+1': 4, 'Battle Trance': 5, 'Bloodletting': 3, 'Body Slam': 2, 'Body Slam+1': 1, 'Carnage': 1, 'Carnage+1': 1, 'Clash': 4, 'Clash+1': 1, 'Cleave': 2, 'Cleave+1': 2, 'Combust': 2, 'Corruption': 2, 'Corruption+1': 2, 'Defend_R': 30, 'Defend_R+1': 11, 'Demon Form': 2, 'Demon Form+1': 1, 'Disarm': 2, 'Disarm+1': 3, 'Double Tap+1': 4, 'Dropkick': 3, 'Dual Wield': 1, 'Dual Wield+1': 1, 'Enlightenment': 2, 'Entrench': 2, 'Evolve': 1, 'Exhume': 3, 'Exhume+1': 1, 'Feed': 1, 'Feed+1': 2, 'Feel No Pain': 4, 'Feel No Pain+1': 1, 'Fiend Fire+1': 1, 'Fire Breathing+1': 1, 'Flame Barrier': 2, 'Flame Barrier+1': 1, 'Flash of Steel': 2, 'Flex': 2, 'Flex+1': 4, 'Ghostly Armor': 3, 'Ghostly+1': 3, 'Havoc': 3, 'Havoc+1': 4, 'Headbutt+1': 2, 'Heavy Blade': 4, 'Heavy Blade+1': 4, 'Immolate': 1, 'Immolate+1': 1, 'Impatience': 2, 'Impervious': 1, 'Infernal Blade': 3, 'Infernal Blade+1': 1, 'Inflame': 5, 'Inflame+1': 2, 'Injury': 1, 'Intimidate': 4, 'Iron Wave': 1, 'J.A.X.+1': 1, 'Juggernaut': 2, 'Juggernaut+1': 1, 'Limit Break': 2, 'Limit Break+1': 2, 'Magnetism': 1, 'Mayhem+1': 1, 'Metallicize': 2, 'Metallicize+1': 1, 'Metamorphosis+1': 1, 'Offering': 8, 'Offering+1': 2, 'Pain': 1, 'Parasite': 1, 'Perfected Strike': 3, 'Perfected Strike+1': 2, 'Pommel Strike': 4, 'Pommel Strike+1': 2, 'Power Through': 1, 'Power Through+1': 1, 'Pummel': 1, 'Rage': 1, 'Rage+1': 2, 'Rampage+1': 4, 'Reaper': 2, 'Reaper+1': 1, 'Reckless Charge': 1, 'Rupture': 1, 'Rupture+1': 1, 'Sadistic Nature': 1, 'Searing Blow+2': 1, 'Second Wind': 1, 'Second Wind+1': 1, 'Seeing Red': 6, 'Seeing Red+1': 2, 'Sentinel': 3, 'Sever Soul': 1, 'Sever Soul+1': 1, 'Shockwave': 3, 'Shockwave+1': 1, 'Shrug It Off': 6, 'Shrug It Off+1': 4, 'Spot Weakness': 3, 'Spot Weakness+1': 5, 'Strike_R': 22, 'Strike_R+1': 11, 'Sword Boomerang': 3, 'Sword Boomerang+1': 1, 'Thunderclap': 2, 'Thunderclap+1': 3, 'True Grit': 4, 'True Grit+1': 4, 'Twin Strike+1': 1, 'Uppercut': 1, 'Uppercut+1': 1, 'Violence': 1, 'Warcry': 2, 'Warcry+1': 1, 'Whirlwind': 2, 'Whirlwind+1': 2, 'Wild Strike+1': 1, 'Writhe': 4}\n"
     ]
    }
   ],
   "source": [
    "\"\"\"Ironclad shenanigans\"\"\"\n",
    "\n",
    "#Boolean array based on if run was won or not\n",
    "ironclad_wins = np.array([run.victory for run in ironclad_runs])\n",
    "#List of successful runs\n",
    "ironclad_victory_runs = np.array(ironclad_runs)[ironclad_wins]\n",
    "\n",
    "vic_master_deck_list_of_list = [run.master_deck for run in ironclad_victory_runs]\n",
    "vic_master_deck_list = []\n",
    "for deck in vic_master_deck_list_of_list:\n",
    "    vic_master_deck_list += deck\n",
    "    \n",
    "unique = np.unique(vic_master_deck_list,return_counts = True)\n",
    "\n",
    "dictionnary = {}\n",
    "for i in range(len(unique[0])):\n",
    "    dictionnary[unique[0][i]] = unique[1][i]\n",
    "print(dictionnary)"
   ]
  },
  {
   "cell_type": "code",
   "execution_count": 9,
   "id": "aa48e30c",
   "metadata": {},
   "outputs": [
    {
     "name": "stdout",
     "output_type": "stream",
     "text": [
      "{'Noxious Fumes+1', 'Flying Knee', 'Deadly Poison+1', 'Bane', 'Strike_G+1', 'Adrenaline', 'Noxious Fumes', 'Venomology', 'Distraction', 'Survivor', 'Neutralize+1', 'Bane+1', 'Backstab', 'Defend_G+1', 'Crippling Poison+1', 'Envenom+1', 'Catalyst+1'}\n",
      "{'Noxious Fumes+1', 'Neutralize+1', 'Flying Knee', 'Deadly Poison+1', 'Bane', 'Catalyst+1', 'Bane+1', 'Strike_G+1', 'Defend_G+1', 'Backstab', 'Crippling Poison+1', 'Adrenaline', 'Envenom+1', 'Noxious Fumes', 'Venomology', 'Distraction', 'Survivor'}\n"
     ]
    }
   ],
   "source": [
    "#Boolean array based on if run was won or not\n",
    "silent_wins = np.array([run.victory for run in silent_runs])\n",
    "#List of successful runs\n",
    "silent_victory_runs = np.array(silent_runs)[silent_wins]\n",
    "\n",
    "vic_master_deck_list = [set(run.master_deck) for run in silent_victory_runs]\n",
    "\n",
    "common = set(vic_master_deck_list[0])\n",
    "for deck in vic_master_deck_list:\n",
    "    common.intersection(deck)\n",
    "print(common)"
   ]
  },
  {
   "cell_type": "code",
   "execution_count": 49,
   "id": "5610702a",
   "metadata": {},
   "outputs": [
    {
     "name": "stdout",
     "output_type": "stream",
     "text": [
      "32\n",
      "165\n"
     ]
    }
   ],
   "source": [
    "\"\"\"Ironclad act 3 wins and losses\"\"\"\n",
    "\n",
    "\n",
    "ironclad_runs_act3 = ironclad_runs[[run.floor_reached >= 35 for run in ironclad_runs]]\n",
    "IC_"
   ]
  },
  {
   "cell_type": "code",
   "execution_count": null,
   "id": "497bb11d",
   "metadata": {},
   "outputs": [],
   "source": []
  }
 ],
 "metadata": {
  "kernelspec": {
   "display_name": "Python 3",
   "language": "python",
   "name": "python3"
  },
  "language_info": {
   "codemirror_mode": {
    "name": "ipython",
    "version": 3
   },
   "file_extension": ".py",
   "mimetype": "text/x-python",
   "name": "python",
   "nbconvert_exporter": "python",
   "pygments_lexer": "ipython3",
   "version": "3.8.8"
  }
 },
 "nbformat": 4,
 "nbformat_minor": 5
}
